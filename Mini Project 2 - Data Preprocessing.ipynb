{
 "cells": [
  {
   "cell_type": "markdown",
   "id": "c96e9af3-3b37-4c04-8e0e-179355e6cf3f",
   "metadata": {},
   "source": [
    "# Investigate Business Hotel using Data Visualization"
   ]
  },
  {
   "cell_type": "code",
   "execution_count": null,
   "id": "a6c9f018-6434-4863-83be-9838d27706ab",
   "metadata": {},
   "outputs": [],
   "source": []
  },
  {
   "cell_type": "code",
   "execution_count": 1,
   "id": "2859d319-37bc-440c-997e-ec3d1373912a",
   "metadata": {},
   "outputs": [],
   "source": [
    "import numpy as np\n",
    "import pandas as pd\n",
    "import matplotlib.pyplot as plt\n",
    "import seaborn as sns\n",
    "\n"
   ]
  },
  {
   "cell_type": "code",
   "execution_count": 2,
   "id": "588380c8-c434-4799-941c-0d0bf5319739",
   "metadata": {},
   "outputs": [
    {
     "data": {
      "text/html": [
       "<div>\n",
       "<style scoped>\n",
       "    .dataframe tbody tr th:only-of-type {\n",
       "        vertical-align: middle;\n",
       "    }\n",
       "\n",
       "    .dataframe tbody tr th {\n",
       "        vertical-align: top;\n",
       "    }\n",
       "\n",
       "    .dataframe thead th {\n",
       "        text-align: right;\n",
       "    }\n",
       "</style>\n",
       "<table border=\"1\" class=\"dataframe\">\n",
       "  <thead>\n",
       "    <tr style=\"text-align: right;\">\n",
       "      <th></th>\n",
       "      <th>hotel</th>\n",
       "      <th>is_canceled</th>\n",
       "      <th>lead_time</th>\n",
       "      <th>arrival_date_year</th>\n",
       "      <th>arrival_date_month</th>\n",
       "      <th>arrival_date_week_number</th>\n",
       "      <th>arrival_date_day_of_month</th>\n",
       "      <th>stays_in_weekend_nights</th>\n",
       "      <th>stays_in_weekdays_nights</th>\n",
       "      <th>adults</th>\n",
       "      <th>...</th>\n",
       "      <th>booking_changes</th>\n",
       "      <th>deposit_type</th>\n",
       "      <th>agent</th>\n",
       "      <th>company</th>\n",
       "      <th>days_in_waiting_list</th>\n",
       "      <th>customer_type</th>\n",
       "      <th>adr</th>\n",
       "      <th>required_car_parking_spaces</th>\n",
       "      <th>total_of_special_requests</th>\n",
       "      <th>reservation_status</th>\n",
       "    </tr>\n",
       "  </thead>\n",
       "  <tbody>\n",
       "    <tr>\n",
       "      <th>56373</th>\n",
       "      <td>City Hotel</td>\n",
       "      <td>1</td>\n",
       "      <td>76</td>\n",
       "      <td>2018</td>\n",
       "      <td>November</td>\n",
       "      <td>37</td>\n",
       "      <td>4</td>\n",
       "      <td>2</td>\n",
       "      <td>0</td>\n",
       "      <td>3</td>\n",
       "      <td>...</td>\n",
       "      <td>0</td>\n",
       "      <td>No Deposit</td>\n",
       "      <td>8.0</td>\n",
       "      <td>NaN</td>\n",
       "      <td>0</td>\n",
       "      <td>Personal</td>\n",
       "      <td>207.9</td>\n",
       "      <td>0</td>\n",
       "      <td>1</td>\n",
       "      <td>Canceled</td>\n",
       "    </tr>\n",
       "    <tr>\n",
       "      <th>118273</th>\n",
       "      <td>City Hotel</td>\n",
       "      <td>0</td>\n",
       "      <td>41</td>\n",
       "      <td>2019</td>\n",
       "      <td>October</td>\n",
       "      <td>33</td>\n",
       "      <td>14</td>\n",
       "      <td>1</td>\n",
       "      <td>3</td>\n",
       "      <td>2</td>\n",
       "      <td>...</td>\n",
       "      <td>0</td>\n",
       "      <td>No Deposit</td>\n",
       "      <td>83.0</td>\n",
       "      <td>NaN</td>\n",
       "      <td>0</td>\n",
       "      <td>Personal</td>\n",
       "      <td>131.2</td>\n",
       "      <td>0</td>\n",
       "      <td>0</td>\n",
       "      <td>Check-Out</td>\n",
       "    </tr>\n",
       "    <tr>\n",
       "      <th>37057</th>\n",
       "      <td>Resort Hotel</td>\n",
       "      <td>0</td>\n",
       "      <td>273</td>\n",
       "      <td>2019</td>\n",
       "      <td>August</td>\n",
       "      <td>22</td>\n",
       "      <td>2</td>\n",
       "      <td>1</td>\n",
       "      <td>2</td>\n",
       "      <td>3</td>\n",
       "      <td>...</td>\n",
       "      <td>0</td>\n",
       "      <td>No Deposit</td>\n",
       "      <td>242.0</td>\n",
       "      <td>NaN</td>\n",
       "      <td>0</td>\n",
       "      <td>Personal</td>\n",
       "      <td>143.1</td>\n",
       "      <td>0</td>\n",
       "      <td>2</td>\n",
       "      <td>Check-Out</td>\n",
       "    </tr>\n",
       "    <tr>\n",
       "      <th>82995</th>\n",
       "      <td>City Hotel</td>\n",
       "      <td>0</td>\n",
       "      <td>4</td>\n",
       "      <td>2018</td>\n",
       "      <td>March</td>\n",
       "      <td>2</td>\n",
       "      <td>9</td>\n",
       "      <td>1</td>\n",
       "      <td>1</td>\n",
       "      <td>2</td>\n",
       "      <td>...</td>\n",
       "      <td>0</td>\n",
       "      <td>No Deposit</td>\n",
       "      <td>NaN</td>\n",
       "      <td>45.0</td>\n",
       "      <td>0</td>\n",
       "      <td>Personal</td>\n",
       "      <td>0.0</td>\n",
       "      <td>1</td>\n",
       "      <td>1</td>\n",
       "      <td>Check-Out</td>\n",
       "    </tr>\n",
       "    <tr>\n",
       "      <th>4718</th>\n",
       "      <td>Resort Hotel</td>\n",
       "      <td>1</td>\n",
       "      <td>2</td>\n",
       "      <td>2018</td>\n",
       "      <td>May</td>\n",
       "      <td>14</td>\n",
       "      <td>30</td>\n",
       "      <td>0</td>\n",
       "      <td>2</td>\n",
       "      <td>1</td>\n",
       "      <td>...</td>\n",
       "      <td>1</td>\n",
       "      <td>No Deposit</td>\n",
       "      <td>NaN</td>\n",
       "      <td>31.0</td>\n",
       "      <td>0</td>\n",
       "      <td>Personal</td>\n",
       "      <td>42.0</td>\n",
       "      <td>0</td>\n",
       "      <td>0</td>\n",
       "      <td>No-Show</td>\n",
       "    </tr>\n",
       "  </tbody>\n",
       "</table>\n",
       "<p>5 rows × 29 columns</p>\n",
       "</div>"
      ],
      "text/plain": [
       "               hotel  is_canceled  lead_time  arrival_date_year  \\\n",
       "56373     City Hotel            1         76               2018   \n",
       "118273    City Hotel            0         41               2019   \n",
       "37057   Resort Hotel            0        273               2019   \n",
       "82995     City Hotel            0          4               2018   \n",
       "4718    Resort Hotel            1          2               2018   \n",
       "\n",
       "       arrival_date_month  arrival_date_week_number  \\\n",
       "56373            November                        37   \n",
       "118273            October                        33   \n",
       "37057              August                        22   \n",
       "82995               March                         2   \n",
       "4718                  May                        14   \n",
       "\n",
       "        arrival_date_day_of_month  stays_in_weekend_nights  \\\n",
       "56373                           4                        2   \n",
       "118273                         14                        1   \n",
       "37057                           2                        1   \n",
       "82995                           9                        1   \n",
       "4718                           30                        0   \n",
       "\n",
       "        stays_in_weekdays_nights  adults  ...  booking_changes  deposit_type  \\\n",
       "56373                          0       3  ...                0    No Deposit   \n",
       "118273                         3       2  ...                0    No Deposit   \n",
       "37057                          2       3  ...                0    No Deposit   \n",
       "82995                          1       2  ...                0    No Deposit   \n",
       "4718                           2       1  ...                1    No Deposit   \n",
       "\n",
       "        agent company days_in_waiting_list customer_type    adr  \\\n",
       "56373     8.0     NaN                    0      Personal  207.9   \n",
       "118273   83.0     NaN                    0      Personal  131.2   \n",
       "37057   242.0     NaN                    0      Personal  143.1   \n",
       "82995     NaN    45.0                    0      Personal    0.0   \n",
       "4718      NaN    31.0                    0      Personal   42.0   \n",
       "\n",
       "        required_car_parking_spaces  total_of_special_requests  \\\n",
       "56373                             0                          1   \n",
       "118273                            0                          0   \n",
       "37057                             0                          2   \n",
       "82995                             1                          1   \n",
       "4718                              0                          0   \n",
       "\n",
       "        reservation_status  \n",
       "56373             Canceled  \n",
       "118273           Check-Out  \n",
       "37057            Check-Out  \n",
       "82995            Check-Out  \n",
       "4718               No-Show  \n",
       "\n",
       "[5 rows x 29 columns]"
      ]
     },
     "execution_count": 2,
     "metadata": {},
     "output_type": "execute_result"
    }
   ],
   "source": [
    "#import file csv\n",
    "df = pd.read_csv('hotel_bookings_data.csv')\n",
    "df.sample(5)"
   ]
  },
  {
   "cell_type": "code",
   "execution_count": 3,
   "id": "a8c76273-5909-4480-a4ce-091301ef5187",
   "metadata": {},
   "outputs": [
    {
     "name": "stdout",
     "output_type": "stream",
     "text": [
      "<class 'pandas.core.frame.DataFrame'>\n",
      "RangeIndex: 119390 entries, 0 to 119389\n",
      "Data columns (total 29 columns):\n",
      " #   Column                          Non-Null Count   Dtype  \n",
      "---  ------                          --------------   -----  \n",
      " 0   hotel                           119390 non-null  object \n",
      " 1   is_canceled                     119390 non-null  int64  \n",
      " 2   lead_time                       119390 non-null  int64  \n",
      " 3   arrival_date_year               119390 non-null  int64  \n",
      " 4   arrival_date_month              119390 non-null  object \n",
      " 5   arrival_date_week_number        119390 non-null  int64  \n",
      " 6   arrival_date_day_of_month       119390 non-null  int64  \n",
      " 7   stays_in_weekend_nights         119390 non-null  int64  \n",
      " 8   stays_in_weekdays_nights        119390 non-null  int64  \n",
      " 9   adults                          119390 non-null  int64  \n",
      " 10  children                        119386 non-null  float64\n",
      " 11  babies                          119390 non-null  int64  \n",
      " 12  meal                            119390 non-null  object \n",
      " 13  city                            118902 non-null  object \n",
      " 14  market_segment                  119390 non-null  object \n",
      " 15  distribution_channel            119390 non-null  object \n",
      " 16  is_repeated_guest               119390 non-null  int64  \n",
      " 17  previous_cancellations          119390 non-null  int64  \n",
      " 18  previous_bookings_not_canceled  119390 non-null  int64  \n",
      " 19  booking_changes                 119390 non-null  int64  \n",
      " 20  deposit_type                    119390 non-null  object \n",
      " 21  agent                           103050 non-null  float64\n",
      " 22  company                         6797 non-null    float64\n",
      " 23  days_in_waiting_list            119390 non-null  int64  \n",
      " 24  customer_type                   119390 non-null  object \n",
      " 25  adr                             119390 non-null  float64\n",
      " 26  required_car_parking_spaces     119390 non-null  int64  \n",
      " 27  total_of_special_requests       119390 non-null  int64  \n",
      " 28  reservation_status              119390 non-null  object \n",
      "dtypes: float64(4), int64(16), object(9)\n",
      "memory usage: 26.4+ MB\n"
     ]
    }
   ],
   "source": [
    "#check information from csv file\n",
    "df.info()"
   ]
  },
  {
   "cell_type": "code",
   "execution_count": 4,
   "id": "635be9de-58eb-4d70-a842-0d2b050d2ad2",
   "metadata": {},
   "outputs": [
    {
     "data": {
      "text/html": [
       "<div>\n",
       "<style scoped>\n",
       "    .dataframe tbody tr th:only-of-type {\n",
       "        vertical-align: middle;\n",
       "    }\n",
       "\n",
       "    .dataframe tbody tr th {\n",
       "        vertical-align: top;\n",
       "    }\n",
       "\n",
       "    .dataframe thead th {\n",
       "        text-align: right;\n",
       "    }\n",
       "</style>\n",
       "<table border=\"1\" class=\"dataframe\">\n",
       "  <thead>\n",
       "    <tr style=\"text-align: right;\">\n",
       "      <th></th>\n",
       "      <th>column_name</th>\n",
       "      <th>sum_missing</th>\n",
       "      <th>percent_missing</th>\n",
       "    </tr>\n",
       "  </thead>\n",
       "  <tbody>\n",
       "    <tr>\n",
       "      <th>0</th>\n",
       "      <td>hotel</td>\n",
       "      <td>0</td>\n",
       "      <td>0.00</td>\n",
       "    </tr>\n",
       "    <tr>\n",
       "      <th>1</th>\n",
       "      <td>is_canceled</td>\n",
       "      <td>0</td>\n",
       "      <td>0.00</td>\n",
       "    </tr>\n",
       "    <tr>\n",
       "      <th>2</th>\n",
       "      <td>lead_time</td>\n",
       "      <td>0</td>\n",
       "      <td>0.00</td>\n",
       "    </tr>\n",
       "    <tr>\n",
       "      <th>3</th>\n",
       "      <td>arrival_date_year</td>\n",
       "      <td>0</td>\n",
       "      <td>0.00</td>\n",
       "    </tr>\n",
       "    <tr>\n",
       "      <th>4</th>\n",
       "      <td>arrival_date_month</td>\n",
       "      <td>0</td>\n",
       "      <td>0.00</td>\n",
       "    </tr>\n",
       "    <tr>\n",
       "      <th>5</th>\n",
       "      <td>arrival_date_week_number</td>\n",
       "      <td>0</td>\n",
       "      <td>0.00</td>\n",
       "    </tr>\n",
       "    <tr>\n",
       "      <th>6</th>\n",
       "      <td>arrival_date_day_of_month</td>\n",
       "      <td>0</td>\n",
       "      <td>0.00</td>\n",
       "    </tr>\n",
       "    <tr>\n",
       "      <th>7</th>\n",
       "      <td>stays_in_weekend_nights</td>\n",
       "      <td>0</td>\n",
       "      <td>0.00</td>\n",
       "    </tr>\n",
       "    <tr>\n",
       "      <th>8</th>\n",
       "      <td>stays_in_weekdays_nights</td>\n",
       "      <td>0</td>\n",
       "      <td>0.00</td>\n",
       "    </tr>\n",
       "    <tr>\n",
       "      <th>9</th>\n",
       "      <td>adults</td>\n",
       "      <td>0</td>\n",
       "      <td>0.00</td>\n",
       "    </tr>\n",
       "    <tr>\n",
       "      <th>10</th>\n",
       "      <td>children</td>\n",
       "      <td>4</td>\n",
       "      <td>0.00</td>\n",
       "    </tr>\n",
       "    <tr>\n",
       "      <th>11</th>\n",
       "      <td>babies</td>\n",
       "      <td>0</td>\n",
       "      <td>0.00</td>\n",
       "    </tr>\n",
       "    <tr>\n",
       "      <th>12</th>\n",
       "      <td>meal</td>\n",
       "      <td>0</td>\n",
       "      <td>0.00</td>\n",
       "    </tr>\n",
       "    <tr>\n",
       "      <th>13</th>\n",
       "      <td>city</td>\n",
       "      <td>488</td>\n",
       "      <td>0.41</td>\n",
       "    </tr>\n",
       "    <tr>\n",
       "      <th>14</th>\n",
       "      <td>market_segment</td>\n",
       "      <td>0</td>\n",
       "      <td>0.00</td>\n",
       "    </tr>\n",
       "    <tr>\n",
       "      <th>15</th>\n",
       "      <td>distribution_channel</td>\n",
       "      <td>0</td>\n",
       "      <td>0.00</td>\n",
       "    </tr>\n",
       "    <tr>\n",
       "      <th>16</th>\n",
       "      <td>is_repeated_guest</td>\n",
       "      <td>0</td>\n",
       "      <td>0.00</td>\n",
       "    </tr>\n",
       "    <tr>\n",
       "      <th>17</th>\n",
       "      <td>previous_cancellations</td>\n",
       "      <td>0</td>\n",
       "      <td>0.00</td>\n",
       "    </tr>\n",
       "    <tr>\n",
       "      <th>18</th>\n",
       "      <td>previous_bookings_not_canceled</td>\n",
       "      <td>0</td>\n",
       "      <td>0.00</td>\n",
       "    </tr>\n",
       "    <tr>\n",
       "      <th>19</th>\n",
       "      <td>booking_changes</td>\n",
       "      <td>0</td>\n",
       "      <td>0.00</td>\n",
       "    </tr>\n",
       "    <tr>\n",
       "      <th>20</th>\n",
       "      <td>deposit_type</td>\n",
       "      <td>0</td>\n",
       "      <td>0.00</td>\n",
       "    </tr>\n",
       "    <tr>\n",
       "      <th>21</th>\n",
       "      <td>agent</td>\n",
       "      <td>16340</td>\n",
       "      <td>13.69</td>\n",
       "    </tr>\n",
       "    <tr>\n",
       "      <th>22</th>\n",
       "      <td>company</td>\n",
       "      <td>112593</td>\n",
       "      <td>94.31</td>\n",
       "    </tr>\n",
       "    <tr>\n",
       "      <th>23</th>\n",
       "      <td>days_in_waiting_list</td>\n",
       "      <td>0</td>\n",
       "      <td>0.00</td>\n",
       "    </tr>\n",
       "    <tr>\n",
       "      <th>24</th>\n",
       "      <td>customer_type</td>\n",
       "      <td>0</td>\n",
       "      <td>0.00</td>\n",
       "    </tr>\n",
       "    <tr>\n",
       "      <th>25</th>\n",
       "      <td>adr</td>\n",
       "      <td>0</td>\n",
       "      <td>0.00</td>\n",
       "    </tr>\n",
       "    <tr>\n",
       "      <th>26</th>\n",
       "      <td>required_car_parking_spaces</td>\n",
       "      <td>0</td>\n",
       "      <td>0.00</td>\n",
       "    </tr>\n",
       "    <tr>\n",
       "      <th>27</th>\n",
       "      <td>total_of_special_requests</td>\n",
       "      <td>0</td>\n",
       "      <td>0.00</td>\n",
       "    </tr>\n",
       "    <tr>\n",
       "      <th>28</th>\n",
       "      <td>reservation_status</td>\n",
       "      <td>0</td>\n",
       "      <td>0.00</td>\n",
       "    </tr>\n",
       "  </tbody>\n",
       "</table>\n",
       "</div>"
      ],
      "text/plain": [
       "                       column_name  sum_missing  percent_missing\n",
       "0                            hotel            0             0.00\n",
       "1                      is_canceled            0             0.00\n",
       "2                        lead_time            0             0.00\n",
       "3                arrival_date_year            0             0.00\n",
       "4               arrival_date_month            0             0.00\n",
       "5         arrival_date_week_number            0             0.00\n",
       "6        arrival_date_day_of_month            0             0.00\n",
       "7          stays_in_weekend_nights            0             0.00\n",
       "8         stays_in_weekdays_nights            0             0.00\n",
       "9                           adults            0             0.00\n",
       "10                        children            4             0.00\n",
       "11                          babies            0             0.00\n",
       "12                            meal            0             0.00\n",
       "13                            city          488             0.41\n",
       "14                  market_segment            0             0.00\n",
       "15            distribution_channel            0             0.00\n",
       "16               is_repeated_guest            0             0.00\n",
       "17          previous_cancellations            0             0.00\n",
       "18  previous_bookings_not_canceled            0             0.00\n",
       "19                 booking_changes            0             0.00\n",
       "20                    deposit_type            0             0.00\n",
       "21                           agent        16340            13.69\n",
       "22                         company       112593            94.31\n",
       "23            days_in_waiting_list            0             0.00\n",
       "24                   customer_type            0             0.00\n",
       "25                             adr            0             0.00\n",
       "26     required_car_parking_spaces            0             0.00\n",
       "27       total_of_special_requests            0             0.00\n",
       "28              reservation_status            0             0.00"
      ]
     },
     "execution_count": 4,
     "metadata": {},
     "output_type": "execute_result"
    }
   ],
   "source": [
    "#check missing values in data\n",
    "sum_missing = df.isna().sum()\n",
    "percent_missing = round(df.isna().sum() * 100 / len(df),2)\n",
    "missing_value_df = pd.DataFrame({'column_name': df.columns,\n",
    "                                 'sum_missing': sum_missing,\n",
    "                                 'percent_missing': percent_missing}).reset_index(drop=True)\n",
    "missing_value_df"
   ]
  },
  {
   "cell_type": "markdown",
   "id": "f69918b9-872c-457f-8307-824584b30bc6",
   "metadata": {},
   "source": [
    "Missing value in columns : Children, city, agent, company"
   ]
  },
  {
   "cell_type": "markdown",
   "id": "8221e3bd-f858-4738-9b61-746ca0dc1eb7",
   "metadata": {},
   "source": [
    "### Handling missing values"
   ]
  },
  {
   "cell_type": "code",
   "execution_count": 5,
   "id": "8bdae60d-2211-4ae7-b10c-8dc0f5cfb167",
   "metadata": {},
   "outputs": [],
   "source": [
    "df['children'].fillna(df['children'].median(), inplace = True)  # just 4 data are missing\n",
    "df['city'].fillna(df['city'].mode()[0], inplace = True)   # using mode because column city has a datatype 'object'\n",
    "df['agent'].fillna(df['agent'].median(), inplace = True)  # using median because the data is positively skewed \n",
    "\n",
    "df.drop('company', axis=1, inplace=True)  #drop the column because it has too much missing values"
   ]
  },
  {
   "cell_type": "code",
   "execution_count": 6,
   "id": "5860a065-9e24-4167-92e6-faff7554cf26",
   "metadata": {},
   "outputs": [
    {
     "data": {
      "text/plain": [
       "hotel                             0\n",
       "is_canceled                       0\n",
       "lead_time                         0\n",
       "arrival_date_year                 0\n",
       "arrival_date_month                0\n",
       "arrival_date_week_number          0\n",
       "arrival_date_day_of_month         0\n",
       "stays_in_weekend_nights           0\n",
       "stays_in_weekdays_nights          0\n",
       "adults                            0\n",
       "children                          0\n",
       "babies                            0\n",
       "meal                              0\n",
       "city                              0\n",
       "market_segment                    0\n",
       "distribution_channel              0\n",
       "is_repeated_guest                 0\n",
       "previous_cancellations            0\n",
       "previous_bookings_not_canceled    0\n",
       "booking_changes                   0\n",
       "deposit_type                      0\n",
       "agent                             0\n",
       "days_in_waiting_list              0\n",
       "customer_type                     0\n",
       "adr                               0\n",
       "required_car_parking_spaces       0\n",
       "total_of_special_requests         0\n",
       "reservation_status                0\n",
       "dtype: int64"
      ]
     },
     "execution_count": 6,
     "metadata": {},
     "output_type": "execute_result"
    }
   ],
   "source": [
    "df.isna().sum()"
   ]
  },
  {
   "cell_type": "markdown",
   "id": "21b78dac-2e5f-4bff-b826-cd45b3357ea5",
   "metadata": {},
   "source": [
    "### Changing unsuitable values"
   ]
  },
  {
   "cell_type": "code",
   "execution_count": 7,
   "id": "a9e34b66-60a5-40f2-a471-d6992b966fcd",
   "metadata": {},
   "outputs": [
    {
     "data": {
      "text/plain": [
       "Breakfast     92310\n",
       "Dinner        14463\n",
       "No Meal       10650\n",
       "Undefined      1169\n",
       "Full Board      798\n",
       "Name: meal, dtype: int64"
      ]
     },
     "execution_count": 7,
     "metadata": {},
     "output_type": "execute_result"
    }
   ],
   "source": [
    "df['meal'].value_counts()  #the only column with undefined values"
   ]
  },
  {
   "cell_type": "code",
   "execution_count": 8,
   "id": "3e4b1dee-fac2-4fc3-a5a4-56a808180c1d",
   "metadata": {},
   "outputs": [
    {
     "data": {
      "text/plain": [
       "Breakfast     93479\n",
       "Dinner        14463\n",
       "No Meal       10650\n",
       "Full Board      798\n",
       "Name: meal, dtype: int64"
      ]
     },
     "execution_count": 8,
     "metadata": {},
     "output_type": "execute_result"
    }
   ],
   "source": [
    "df['meal'].replace('Undefined', 'Breakfast', inplace = True)  # meal has data type 'object', replacing undefined data with most frequent data\n",
    "df['meal'].value_counts()"
   ]
  },
  {
   "cell_type": "markdown",
   "id": "c5fe5585-7139-411a-8e95-f6159c866670",
   "metadata": {},
   "source": [
    "### Delete Unnecessary Data"
   ]
  },
  {
   "cell_type": "code",
   "execution_count": 9,
   "id": "4cee5569-dc8e-481e-b3c2-0c8b1cfa2b37",
   "metadata": {},
   "outputs": [
    {
     "data": {
      "image/png": "[encoded data removed]",
      "text/plain": [
       "<Figure size 504x216 with 3 Axes>"
      ]
     },
     "metadata": {
      "needs_background": "light"
     },
     "output_type": "display_data"
    }
   ],
   "source": [
    "# analyzing/selecting the unnecessary data\n",
    "guests = ['adults', 'children', 'babies']\n",
    "plt.figure(figsize=(7,3))\n",
    "\n",
    "for i, column in enumerate (df[guests].columns, 1): \n",
    "    plt.subplot(3, 1, i)\n",
    "    sns.boxplot(data=df[guests], x=df[column], color='cornflowerblue')\n",
    "    plt.tight_layout()"
   ]
  },
  {
   "cell_type": "code",
   "execution_count": 10,
   "id": "0aa370ba-1735-405d-a017-4e9a96e9296f",
   "metadata": {},
   "outputs": [
    {
     "data": {
      "text/plain": [
       "2     89680\n",
       "1     23027\n",
       "3      6202\n",
       "0       403\n",
       "4        62\n",
       "26        5\n",
       "27        2\n",
       "20        2\n",
       "5         2\n",
       "40        1\n",
       "50        1\n",
       "55        1\n",
       "6         1\n",
       "10        1\n",
       "Name: adults, dtype: int64"
      ]
     },
     "execution_count": 10,
     "metadata": {},
     "output_type": "execute_result"
    }
   ],
   "source": [
    "df['adults'].value_counts()"
   ]
  },
  {
   "cell_type": "code",
   "execution_count": 11,
   "id": "d16a4847-a9b9-48f9-8b8d-b90552c1e47d",
   "metadata": {},
   "outputs": [
    {
     "data": {
      "text/plain": [
       "0.0     110800\n",
       "1.0       4861\n",
       "2.0       3652\n",
       "3.0         76\n",
       "10.0         1\n",
       "Name: children, dtype: int64"
      ]
     },
     "execution_count": 11,
     "metadata": {},
     "output_type": "execute_result"
    }
   ],
   "source": [
    "df['children'].value_counts()"
   ]
  },
  {
   "cell_type": "code",
   "execution_count": 12,
   "id": "f0f1dcbf-d1ec-45b8-b41b-a29fad212380",
   "metadata": {},
   "outputs": [
    {
     "data": {
      "text/plain": [
       "0     118473\n",
       "1        900\n",
       "2         15\n",
       "10         1\n",
       "9          1\n",
       "Name: babies, dtype: int64"
      ]
     },
     "execution_count": 12,
     "metadata": {},
     "output_type": "execute_result"
    }
   ],
   "source": [
    "df['babies'].value_counts()"
   ]
  },
  {
   "cell_type": "markdown",
   "id": "4e8b31ac-5ff8-493f-891b-acde80e1e195",
   "metadata": {},
   "source": [
    "from analysis above, we can see that number of guests for each booking has some outliers and kind of unrealistic data such as 9-10 babies and no adult in a booking, etc. so it's better to remove those data."
   ]
  },
  {
   "cell_type": "code",
   "execution_count": 14,
   "id": "53b7f3e5-f483-4d78-9336-64a69fe75115",
   "metadata": {},
   "outputs": [
    {
     "data": {
      "text/plain": [
       "(119390, 28)"
      ]
     },
     "execution_count": 14,
     "metadata": {},
     "output_type": "execute_result"
    }
   ],
   "source": [
    "df.shape # initial amount of th data"
   ]
  },
  {
   "cell_type": "code",
   "execution_count": 15,
   "id": "0481d625-0b59-4304-8230-31c7394395b4",
   "metadata": {},
   "outputs": [],
   "source": [
    "# deleting unnecesary data\n",
    "df = df[~ ((df['adults'] >4) | (df['adults'] == 0))]\n",
    "df = df[~ ((df['children'] >3))]\n",
    "df = df[(df['babies'] <= 2)]\n"
   ]
  },
  {
   "cell_type": "code",
   "execution_count": 17,
   "id": "ebc5e6cf-d78c-4b74-9958-772a2adc9833",
   "metadata": {},
   "outputs": [
    {
     "data": {
      "text/plain": [
       "(118968, 28)"
      ]
     },
     "execution_count": 17,
     "metadata": {},
     "output_type": "execute_result"
    }
   ],
   "source": [
    "df.shape # amount of the data after deleting unnecessary data"
   ]
  },
  {
   "cell_type": "code",
   "execution_count": null,
   "id": "433c4ad8-bb99-48df-9b9f-e402fc751de8",
   "metadata": {},
   "outputs": [],
   "source": []
  }
 ],
 "metadata": {
  "kernelspec": {
   "display_name": "Python 3 (ipykernel)",
   "language": "python",
   "name": "python3"
  },
  "language_info": {
   "codemirror_mode": {
    "name": "ipython",
    "version": 3
   },
   "file_extension": ".py",
   "mimetype": "text/x-python",
   "name": "python",
   "nbconvert_exporter": "python",
   "pygments_lexer": "ipython3",
   "version": "3.9.12"
  }
 },
 "nbformat": 4,
 "nbformat_minor": 5
}
